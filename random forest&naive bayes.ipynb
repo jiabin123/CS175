{
 "cells": [
  {
   "cell_type": "code",
   "execution_count": 1,
   "metadata": {},
   "outputs": [],
   "source": [
    "import os\n",
    "import json\n",
    "\n",
    "path = './data'\n",
    "x = {}\n",
    "\n",
    "i = 0\n",
    "for f_name in os.listdir('./data'):\n",
    "    if f_name.endswith('.txt'):\n",
    "        file = open((path +\"/\"+ f_name), 'r',encoding = 'UTF-8')\n",
    "        x[i] = [f_name[-5], file.read()]\n",
    "        i += 1\n",
    "        file.close()\n",
    "\n",
    "y = json.dumps(x, indent=4)\n",
    "with open(\"train.json\", 'w', encoding='utf-8') as f:\n",
    "    f.write(y)\n",
    "\n",
    "f.close()\n"
   ]
  },
  {
   "cell_type": "code",
   "execution_count": 2,
   "metadata": {},
   "outputs": [],
   "source": [
    "i = 0\n",
    "for f_name in os.listdir('./test_data'):\n",
    "    if f_name.endswith('.txt'):\n",
    "        file = open((\"test_data/\"+ f_name), 'r',encoding = 'UTF-8')\n",
    "        x[i] = [f_name[-5], file.read()]\n",
    "        i += 1\n",
    "        file.close()\n",
    "\n",
    "y = json.dumps(x, indent=4)\n",
    "with open(\"test.json\", 'w', encoding='utf-8') as f:\n",
    "    f.write(y)\n",
    "\n",
    "f.close()"
   ]
  },
  {
   "cell_type": "code",
   "execution_count": 3,
   "metadata": {},
   "outputs": [],
   "source": [
    "with open(\"./train.json\",'r') as load_f:\n",
    "    train_data = json.load(load_f)\n",
    "with open(\"./test.json\",'r') as load_t:\n",
    "    test_data = json.load(load_t)"
   ]
  },
  {
   "cell_type": "code",
   "execution_count": 5,
   "metadata": {},
   "outputs": [],
   "source": [
    "import math\n",
    "text = []\n",
    "Y = []\n",
    "for i in train_data:\n",
    "    text.append(train_data[i][1])\n",
    "    if int(train_data[i][0]) > 5:\n",
    "        Y.append(1)\n",
    "    elif int(train_data[i][0]) < 5:\n",
    "        Y.append(0)\n",
    "\n",
    "for i in test_data:\n",
    "    text.append(test_data[i][1])\n",
    "    if int(train_data[i][0]) > 5:\n",
    "        Y.append(1)\n",
    "    elif int(train_data[i][0]) < 5:\n",
    "        Y.append(0)"
   ]
  },
  {
   "cell_type": "code",
   "execution_count": null,
   "metadata": {},
   "outputs": [],
   "source": []
  },
  {
   "cell_type": "code",
   "execution_count": 15,
   "metadata": {},
   "outputs": [
    {
     "name": "stdout",
     "output_type": "stream",
     "text": [
      "(50000, 101583)\n"
     ]
    }
   ],
   "source": [
    "from sklearn.feature_extraction.text import CountVectorizer\n",
    "vectorizer  = CountVectorizer(stop_words = 'english')\n",
    "X = vectorizer.fit_transform(text)\n",
    "print(X.shape)"
   ]
  },
  {
   "cell_type": "code",
   "execution_count": 19,
   "metadata": {},
   "outputs": [],
   "source": [
    "X_train = X[:35000]\n",
    "Y_train = Y[:35000]\n",
    "X_test = X[15000:]\n",
    "Y_test = Y[15000:]\n"
   ]
  },
  {
   "cell_type": "code",
   "execution_count": null,
   "metadata": {},
   "outputs": [],
   "source": []
  },
  {
   "cell_type": "code",
   "execution_count": 20,
   "metadata": {},
   "outputs": [],
   "source": [
    "def error_rate(predict, true):\n",
    "    correct = 0\n",
    "    for i in range(len(predict)):\n",
    "        if predict[i] == true[i]:\n",
    "            correct += 1\n",
    "    return correct/len(predict)"
   ]
  },
  {
   "cell_type": "code",
   "execution_count": 24,
   "metadata": {},
   "outputs": [
    {
     "name": "stdout",
     "output_type": "stream",
     "text": [
      "train: 0.9906\n",
      "test: 0.8548285714285714\n"
     ]
    }
   ],
   "source": [
    "from sklearn.ensemble import RandomForestClassifier\n",
    "\n",
    "clf = RandomForestClassifier(n_estimators=13)\n",
    "clf.fit(X_train, Y_train)\n",
    "predict_train = clf.predict(X_train)\n",
    "predict_test = clf.predict(X_test)\n",
    "print('train:',error_rate(predict_train,Y_train))\n",
    "print('test:',error_rate(predict_test,Y_test))"
   ]
  },
  {
   "cell_type": "code",
   "execution_count": 26,
   "metadata": {},
   "outputs": [
    {
     "name": "stdout",
     "output_type": "stream",
     "text": [
      "train: 0.8096571428571429\n",
      "test: 0.7368285714285714\n"
     ]
    }
   ],
   "source": [
    "from sklearn.naive_bayes import MultinomialNB\n",
    "gnb = MultinomialNB()\n",
    "gnb.fit(X_train, Y_train)\n",
    "predict_train = gnb.predict(X_train)\n",
    "predict_test = gnb.predict(X_test)\n",
    "print('train:',error_rate(predict_train,Y_train))\n",
    "print('test:',error_rate(predict_test,Y_test))"
   ]
  },
  {
   "cell_type": "code",
   "execution_count": null,
   "metadata": {},
   "outputs": [],
   "source": []
  }
 ],
 "metadata": {
  "kernelspec": {
   "display_name": "Python 3",
   "language": "python",
   "name": "python3"
  },
  "language_info": {
   "codemirror_mode": {
    "name": "ipython",
    "version": 3
   },
   "file_extension": ".py",
   "mimetype": "text/x-python",
   "name": "python",
   "nbconvert_exporter": "python",
   "pygments_lexer": "ipython3",
   "version": "3.7.0"
  }
 },
 "nbformat": 4,
 "nbformat_minor": 2
}
