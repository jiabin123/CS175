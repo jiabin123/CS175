{
 "cells": [
  {
   "cell_type": "code",
   "execution_count": 1,
   "metadata": {},
   "outputs": [],
   "source": [
    "import os\n",
    "import json\n",
    "\n",
    "path = './data'\n",
    "x = {}\n",
    "\n",
    "i = 0\n",
    "for f_name in os.listdir('./data'):\n",
    "    if f_name.endswith('.txt'):\n",
    "        file = open((path +\"/\"+ f_name), 'r',encoding = 'UTF-8')\n",
    "        x[i] = [f_name[-5], file.read()]\n",
    "        i += 1\n",
    "        file.close()\n",
    "\n",
    "y = json.dumps(x, indent=4)\n",
    "with open(\"train.json\", 'w', encoding='utf-8') as f:\n",
    "    f.write(y)\n",
    "\n",
    "f.close()\n"
   ]
  },
  {
   "cell_type": "code",
   "execution_count": 2,
   "metadata": {},
   "outputs": [],
   "source": [
    "i = 0\n",
    "for f_name in os.listdir('./test_data'):\n",
    "    if f_name.endswith('.txt'):\n",
    "        file = open((\"test_data/\"+ f_name), 'r',encoding = 'UTF-8')\n",
    "        x[i] = [f_name[-5], file.read()]\n",
    "        i += 1\n",
    "        file.close()\n",
    "\n",
    "y = json.dumps(x, indent=4)\n",
    "with open(\"test.json\", 'w', encoding='utf-8') as f:\n",
    "    f.write(y)\n",
    "\n",
    "f.close()"
   ]
  },
  {
   "cell_type": "code",
   "execution_count": 3,
   "metadata": {},
   "outputs": [],
   "source": [
    "with open(\"./train.json\",'r') as load_f:\n",
    "    train_data = json.load(load_f)\n",
    "with open(\"./test.json\",'r') as load_t:\n",
    "    test_data = json.load(load_t)"
   ]
  },
  {
   "cell_type": "code",
   "execution_count": 4,
   "metadata": {},
   "outputs": [],
   "source": [
    "import math\n",
    "text = []\n",
    "Y = []\n",
    "for i in train_data:\n",
    "    text.append(train_data[i][1])\n",
    "    y = int(train_data[i][0])/2\n",
    "    Y.append(math.ceil(y))\n",
    "\n",
    "for i in test_data:\n",
    "    text.append(test_data[i][1])\n",
    "    y = int(test_data[i][0])/2\n",
    "    Y.append(math.ceil(y))"
   ]
  },
  {
   "cell_type": "code",
   "execution_count": null,
   "metadata": {},
   "outputs": [],
   "source": []
  },
  {
   "cell_type": "code",
   "execution_count": 5,
   "metadata": {},
   "outputs": [],
   "source": [
    "from sklearn.feature_extraction.text import CountVectorizer\n",
    "vectorizer  = CountVectorizer(stop_words = 'english')\n",
    "X = vectorizer.fit_transform(text)"
   ]
  },
  {
   "cell_type": "code",
   "execution_count": 6,
   "metadata": {},
   "outputs": [],
   "source": [
    "X_train = X[:25000]\n",
    "Y_train = Y[:25000]\n",
    "X_test = X[25000:]\n",
    "Y_test = Y[25000:]\n"
   ]
  },
  {
   "cell_type": "code",
   "execution_count": 7,
   "metadata": {},
   "outputs": [
    {
     "name": "stderr",
     "output_type": "stream",
     "text": [
      "D:\\anaconda\\lib\\site-packages\\sklearn\\ensemble\\weight_boosting.py:29: DeprecationWarning: numpy.core.umath_tests is an internal NumPy module and should not be imported. It will be removed in a future NumPy release.\n",
      "  from numpy.core.umath_tests import inner1d\n"
     ]
    }
   ],
   "source": []
  },
  {
   "cell_type": "code",
   "execution_count": 8,
   "metadata": {},
   "outputs": [],
   "source": [
    "def error_rate(predict, true):\n",
    "    correct = 0\n",
    "    for i in range(len(predict)):\n",
    "        if predict[i] == true[i]:\n",
    "            correct += 1\n",
    "    return correct/len(predict)"
   ]
  },
  {
   "cell_type": "code",
   "execution_count": 11,
   "metadata": {},
   "outputs": [
    {
     "name": "stdout",
     "output_type": "stream",
     "text": [
      "5train: 0.98904\n",
      "5test: 0.42116\n",
      "6train: 0.98812\n",
      "6test: 0.4214\n",
      "7train: 0.98916\n",
      "7test: 0.425\n",
      "8train: 0.9888\n",
      "8test: 0.42\n",
      "9train: 0.9896\n",
      "9test: 0.41996\n",
      "10train: 0.98796\n",
      "10test: 0.41844\n",
      "11train: 0.98784\n",
      "11test: 0.4172\n",
      "12train: 0.98744\n",
      "12test: 0.41344\n",
      "13train: 0.98928\n",
      "13test: 0.41688\n",
      "14train: 0.98876\n",
      "14test: 0.42092\n"
     ]
    }
   ],
   "source": [
    "from sklearn.ensemble import RandomForestClassifier\n",
    "for i in range(5,15):\n",
    "    clf = RandomForestClassifier(n_estimators=10)\n",
    "    clf.fit(X_train, Y_train)\n",
    "    predict_train = clf.predict(X_train)\n",
    "    predict_test = clf.predict(X_test)\n",
    "    print(str(i) + 'train:',error_rate(predict_train,Y_train))\n",
    "    print(str(i) + 'test:',error_rate(predict_test,Y_test))"
   ]
  },
  {
   "cell_type": "code",
   "execution_count": null,
   "metadata": {},
   "outputs": [],
   "source": []
  }
 ],
 "metadata": {
  "kernelspec": {
   "display_name": "Python 3",
   "language": "python",
   "name": "python3"
  },
  "language_info": {
   "codemirror_mode": {
    "name": "ipython",
    "version": 3
   },
   "file_extension": ".py",
   "mimetype": "text/x-python",
   "name": "python",
   "nbconvert_exporter": "python",
   "pygments_lexer": "ipython3",
   "version": "3.7.0"
  }
 },
 "nbformat": 4,
 "nbformat_minor": 2
}
